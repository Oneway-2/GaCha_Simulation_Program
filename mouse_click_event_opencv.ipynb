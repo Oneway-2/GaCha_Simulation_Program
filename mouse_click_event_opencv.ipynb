{
 "metadata": {
  "language_info": {
   "codemirror_mode": {
    "name": "ipython",
    "version": 3
   },
   "file_extension": ".py",
   "mimetype": "text/x-python",
   "name": "python",
   "nbconvert_exporter": "python",
   "pygments_lexer": "ipython3",
   "version": "3.9.4"
  },
  "orig_nbformat": 2,
  "kernelspec": {
   "name": "python394jvsc74a57bd0817ce0bf5275c869ea428ba444ef2e36e3ab5bf089b3c97e44c180bff6798706",
   "display_name": "Python 3.9.4 64-bit"
  },
  "metadata": {
   "interpreter": {
    "hash": "817ce0bf5275c869ea428ba444ef2e36e3ab5bf089b3c97e44c180bff6798706"
   }
  }
 },
 "nbformat": 4,
 "nbformat_minor": 2,
 "cells": [
  {
   "cell_type": "code",
   "execution_count": 2,
   "metadata": {},
   "outputs": [
    {
     "output_type": "execute_result",
     "data": {
      "text/plain": [
       "-1"
      ]
     },
     "metadata": {},
     "execution_count": 2
    }
   ],
   "source": [
    "import cv2\n",
    "import numpy as np\n",
    "\n",
    "def mouse_event(event, x, y, flags, param):\n",
    "    global radius\n",
    "    \n",
    "    if event == cv2.EVENT_FLAG_LBUTTON:    \n",
    "        cv2.circle(param, (x, y), radius, (255, 0, 0), 2)\n",
    "        cv2.imshow(\"draw\", src)\n",
    "\n",
    "    elif event == cv2.EVENT_MOUSEWHEEL:\n",
    "        if flags > 0:\n",
    "            radius += 1\n",
    "        elif radius > 1:\n",
    "            radius -= 1\n",
    "\n",
    "radius = 3\n",
    "src = np.full((500, 500, 3), 255, dtype=np.uint8)\n",
    "\n",
    "cv2.imshow(\"draw\", src)\n",
    "cv2.setMouseCallback(\"draw\", mouse_event, src)\n",
    "cv2.waitKey()"
   ]
  },
  {
   "cell_type": "code",
   "execution_count": null,
   "metadata": {},
   "outputs": [],
   "source": []
  }
 ]
}