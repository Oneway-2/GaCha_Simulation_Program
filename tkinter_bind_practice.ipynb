{
 "metadata": {
  "language_info": {
   "codemirror_mode": {
    "name": "ipython",
    "version": 3
   },
   "file_extension": ".py",
   "mimetype": "text/x-python",
   "name": "python",
   "nbconvert_exporter": "python",
   "pygments_lexer": "ipython3",
   "version": "3.9.4"
  },
  "orig_nbformat": 2,
  "kernelspec": {
   "name": "python394jvsc74a57bd0817ce0bf5275c869ea428ba444ef2e36e3ab5bf089b3c97e44c180bff6798706",
   "display_name": "Python 3.9.4 64-bit"
  },
  "metadata": {
   "interpreter": {
    "hash": "817ce0bf5275c869ea428ba444ef2e36e3ab5bf089b3c97e44c180bff6798706"
   }
  }
 },
 "nbformat": 4,
 "nbformat_minor": 2,
 "cells": [
  {
   "cell_type": "code",
   "execution_count": 4,
   "metadata": {},
   "outputs": [],
   "source": [
    "# Code source from https://alegruz.imweb.me/blog/?bmode=view&idx=221718\n",
    "\n",
    "import tkinter as tk\n",
    "\n",
    "class Game(tk.Frame):\n",
    "    def __init__(self, master):\n",
    "        super(Game, self).__init__(master)\n",
    "        self.width = 610\n",
    "        self.height= 400\n",
    "        self.canvas = tk.Canvas(self, bg = '#aaaaaa', width = self.width, height = self.height)\n",
    "        self.canvas.pack()\n",
    "        self.pack()\n",
    "        self.ball = Ball(self.canvas, self.width/2, self.height/2)\n",
    "\n",
    "        self.canvas.focus_set()\n",
    "        self.canvas.bind('<Left>',\n",
    "                         lambda _: self.ball.move(-10, 0))\n",
    "        self.canvas.bind('<Right>',\n",
    "                         lambda _: self.ball.move(10, 0))\n",
    "\n",
    "class GameObject:\n",
    "    def __init__(self, canvas, item):\n",
    "        self.canvas = canvas\n",
    "        self.item = item\n",
    "\n",
    "    def move(self, x, y):\n",
    "        self.canvas.move(self.item, x, y)\n",
    "\n",
    "class Ball(GameObject):\n",
    "    def __init__(self, canvas, x, y):\n",
    "        self.radius = 10\n",
    "        item = canvas.create_oval(x-self.radius, y-self.radius,\n",
    "                                  x+self.radius, y+self.radius,\n",
    "                                  fill='white')\n",
    "        super(Ball, self).__init__(canvas, item)\n",
    "\n",
    "\n",
    "if __name__ == '__main__':\n",
    "    root = tk.Tk()\n",
    "    root.title('Game Title')\n",
    "    game = Game(root)\n",
    "    game.mainloop()\n"
   ]
  }
 ]
}