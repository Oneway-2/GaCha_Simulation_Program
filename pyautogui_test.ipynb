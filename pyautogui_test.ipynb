{
 "metadata": {
  "language_info": {
   "codemirror_mode": {
    "name": "ipython",
    "version": 3
   },
   "file_extension": ".py",
   "mimetype": "text/x-python",
   "name": "python",
   "nbconvert_exporter": "python",
   "pygments_lexer": "ipython3",
   "version": "3.9.4"
  },
  "orig_nbformat": 2,
  "kernelspec": {
   "name": "python394jvsc74a57bd0817ce0bf5275c869ea428ba444ef2e36e3ab5bf089b3c97e44c180bff6798706",
   "display_name": "Python 3.9.4 64-bit"
  },
  "metadata": {
   "interpreter": {
    "hash": "817ce0bf5275c869ea428ba444ef2e36e3ab5bf089b3c97e44c180bff6798706"
   }
  }
 },
 "nbformat": 4,
 "nbformat_minor": 2,
 "cells": [
  {
   "cell_type": "code",
   "execution_count": 1,
   "metadata": {},
   "outputs": [],
   "source": [
    "import pyautogui"
   ]
  },
  {
   "cell_type": "code",
   "execution_count": 20,
   "metadata": {},
   "outputs": [],
   "source": [
    "position = pyautogui.position()  # 이 함수가 실행될 때 마우스가 있는 지점의 좌표를 저장 "
   ]
  },
  {
   "cell_type": "code",
   "execution_count": 19,
   "metadata": {},
   "outputs": [
    {
     "output_type": "stream",
     "name": "stdout",
     "text": [
      "Point(x=786, y=248)\n"
     ]
    }
   ],
   "source": [
    "print(position)"
   ]
  },
  {
   "cell_type": "code",
   "execution_count": 13,
   "metadata": {},
   "outputs": [
    {
     "output_type": "stream",
     "name": "stdout",
     "text": [
      "760\n559\n"
     ]
    }
   ],
   "source": [
    "print(position.x)  # x, y 각각 표시도 가능\n",
    "print(position.y)"
   ]
  },
  {
   "cell_type": "code",
   "execution_count": 10,
   "metadata": {},
   "outputs": [
    {
     "output_type": "stream",
     "name": "stdout",
     "text": [
      "Size(width=2560, height=1440)\n"
     ]
    }
   ],
   "source": [
    "print(pyautogui.size())  # 현재 화면 사이즈"
   ]
  },
  {
   "cell_type": "code",
   "execution_count": 17,
   "metadata": {},
   "outputs": [],
   "source": [
    "pyautogui.moveTo(760,559)  # 해당 x,y 좌표로 마우스 이동"
   ]
  },
  {
   "cell_type": "code",
   "execution_count": 23,
   "metadata": {},
   "outputs": [],
   "source": [
    "pyautogui.moveRel(200, 300, 1)  # 현재 마우스 위치에서 x, y 만큼 몇 초 내에 이동할지"
   ]
  },
  {
   "cell_type": "code",
   "execution_count": 28,
   "metadata": {},
   "outputs": [],
   "source": [
    "pyautogui.scroll(100)"
   ]
  },
  {
   "cell_type": "code",
   "execution_count": 30,
   "metadata": {},
   "outputs": [],
   "source": [
    "pyautogui.click()  # 왼쪽클릭 1회"
   ]
  },
  {
   "cell_type": "code",
   "execution_count": 33,
   "metadata": {},
   "outputs": [],
   "source": [
    "pyautogui.click(clicks=2, interval=2)  # 2초 간격으로 2번 클릭 "
   ]
  },
  {
   "cell_type": "code",
   "execution_count": 36,
   "metadata": {},
   "outputs": [],
   "source": [
    "pyautogui.doubleClick()  # 더블 클릭"
   ]
  },
  {
   "cell_type": "code",
   "execution_count": 38,
   "metadata": {},
   "outputs": [],
   "source": [
    "pyautogui.click(button='right')  # 오른클릭 1회"
   ]
  }
 ]
}